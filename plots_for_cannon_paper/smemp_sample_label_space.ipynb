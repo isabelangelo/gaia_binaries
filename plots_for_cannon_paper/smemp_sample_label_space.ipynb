{
 "cells": [
  {
   "cell_type": "code",
   "execution_count": 3,
   "id": "892de846",
   "metadata": {},
   "outputs": [],
   "source": [
    "# note: to compare to RIce & Brewer 2020, I need the \n",
    "# SPOCS sample and parameters from Figure 7. I'm not sure where to get these.\n",
    "# for now I'm going to try to compare to the SpeecMatch library\n",
    "# which is used to validate specmatch\n",
    "\n",
    "# I need table A1\n",
    "# I don't see it on CDS, what about from the specmatch package?"
   ]
  },
  {
   "cell_type": "code",
   "execution_count": 4,
   "id": "afbae048",
   "metadata": {},
   "outputs": [
    {
     "name": "stdout",
     "output_type": "stream",
     "text": [
      "INFO: Login to gaia TAP server [astroquery.gaia.core]\n",
      "OK\n",
      "INFO: Login to gaia data server [astroquery.gaia.core]\n",
      "OK\n",
      "Reading library from /Users/isabelangelo/.specmatchemp/library.h5\n",
      "403  smemp stars in library\n",
      "296  with logg > 4\n",
      "290  found in Gaia-smemp crossmatch\n",
      "292 with Gaia DR3 IDs after adding manually-identified KIC IDs\n"
     ]
    },
    {
     "name": "stderr",
     "output_type": "stream",
     "text": [
      "/var/folders/pk/t44zjr6913b62d97t1gt20680000gn/T/ipykernel_1446/2147852318.py:41: FutureWarning: The frame.append method is deprecated and will be removed from pandas in a future version. Use pandas.concat instead.\n",
      "  smemp_stars_gaia = smemp_stars_gaia.append(row)\n",
      "/var/folders/pk/t44zjr6913b62d97t1gt20680000gn/T/ipykernel_1446/2147852318.py:41: FutureWarning: The frame.append method is deprecated and will be removed from pandas in a future version. Use pandas.concat instead.\n",
      "  smemp_stars_gaia = smemp_stars_gaia.append(row)\n"
     ]
    }
   ],
   "source": [
    "from astropy.io import fits\n",
    "from astropy.table import Table\n",
    "import thecannon as tc\n",
    "import specmatchemp.library\n",
    "import matplotlib.pyplot as plt\n",
    "import matplotlib.gridspec as gridspec\n",
    "import numpy as np\n",
    "import pandas as pd\n",
    "import gaia\n",
    "\n",
    "# load 403 stars + parameters from the specmatch-emp library\n",
    "smemp_stars = specmatchemp.library.read_hdf(wavlim=[5140,5200]).library_params\n",
    "print(len(smemp_stars), ' smemp stars in library')\n",
    "\n",
    "# remove non-main sequence stars that the Cannon shouldn't fit\n",
    "smemp_stars = smemp_stars.query('logg > 4')\n",
    "print(len(smemp_stars), ' with logg > 4')\n",
    "\n",
    "# Gaia crossmatch\n",
    "# 4 targets gave errors in Gaia query (GJ15, GJ105, GJ166, and GJ412)\n",
    "# and two were not in query results (HD 124257 A, HD39587)\n",
    "# found by querying ./data/smemp_library_star_names.txt on gaia\n",
    "gaia_smemp_xmatch = pd.read_csv('./data/gaia_smemp_xmatch.csv')\n",
    "smemp_stars_gaia = pd.merge(\n",
    "    smemp_stars, \n",
    "    gaia_smemp_xmatch[['target_id', 'source_id']], \n",
    "    left_on='source_name', \n",
    "    right_on='target_id')\n",
    "print(len(smemp_stars_gaia), ' found in Gaia-smemp crossmatch')\n",
    "\n",
    "# crossmatch is missing 6 targets\n",
    "# adding 2 that I found manually on the Gaia archive \n",
    "# the others gave an error when I queried them individually\n",
    "missing_target_ids = {\n",
    "    'HD 124257 A' : 1511593059561180032,\n",
    "    'HD39587' : 3399063235755057792}\n",
    "for target_id in missing_target_ids.keys():\n",
    "    row = smemp_stars[smemp_stars.source_name==target_id].iloc[0]\n",
    "    row['target_id'] = target_id\n",
    "    row['source_id'] = missing_target_ids[target_id]\n",
    "    smemp_stars_gaia = smemp_stars_gaia.append(row)\n",
    "print(len(smemp_stars_gaia), 'with Gaia DR3 IDs after adding manually-identified KIC IDs')"
   ]
  },
  {
   "cell_type": "code",
   "execution_count": 5,
   "id": "431e9fe5",
   "metadata": {},
   "outputs": [
    {
     "name": "stdout",
     "output_type": "stream",
     "text": [
      "INFO: Query finished. [astroquery.utils.tap.core]\n",
      "Table size (rows): 67 after filters based on Gaia DR3 labels\n",
      "* Input list contains 67 source_IDs\n",
      "* This list is split into 1 chunks of <= 5000 elements each\n",
      "Downloading Chunk #1; N_files = 67\n",
      "writing flux + flux errors to dataframes\n",
      "67 stars with RVS spectra in DR3\n",
      "smemp labels saved to ./data/smemp_labels.csv\n",
      "smemp flux, sigma dataframe saved to:\n",
      "./data/smemp_flux.csv\n",
      "./data/smemp_sigma.csv\n"
     ]
    }
   ],
   "source": [
    "# query to run in Gaia\n",
    "query = f\"SELECT smemp.source_id, smemp.target_id, \\\n",
    "smemp.Teff, smemp.u_Teff, \\\n",
    "smemp.logg, smemp.u_logg, \\\n",
    "smemp.feh, smemp.u_feh, \\\n",
    "smemp.vsini, \\\n",
    "dr3.rvs_spec_sig_to_noise, dr3.ra, dr3.dec \\\n",
    "FROM user_iangelo.smemp_stars_gaia as smemp \\\n",
    "JOIN gaiadr3.gaia_source as dr3 \\\n",
    "  ON dr3.source_id = smemp.source_id \\\n",
    "WHERE dr3.has_rvs = 'True'\"\n",
    "\n",
    "# upload smemp star IDs to Gaia\n",
    "# gaia.upload_table(smemp_stars_gaia, 'smemp_stars_gaia')\n",
    "\n",
    "# download data\n",
    "smemp_stars_gaia_results, smemp_flux_df, smemp_sigma_df = gaia.retrieve_data_and_labels(query)\n",
    "print(len(smemp_stars_gaia_results), 'stars with RVS spectra in DR3')\n",
    "\n",
    "# save data to .csv files\n",
    "gaia.write_labels_to_file(smemp_stars_gaia_results, 'smemp')\n",
    "gaia.write_flux_data_to_csv(smemp_flux_df, smemp_sigma_df, 'smemp')"
   ]
  },
  {
   "cell_type": "code",
   "execution_count": 6,
   "id": "b1c76cad",
   "metadata": {},
   "outputs": [],
   "source": [
    "# maybe I need to rename some of these? but it shouldn't be too hard\n",
    "# then I can take maybe like 10/15 minutes to think about making this into a function\n",
    "\n",
    "# function to plot one-to-one plot for smemp\n",
    "def plot_one_to_one(label_df, flux_df, sigma_df, model, \n",
    "    figure_path, path_to_save_labels=None):\n",
    "    \"\"\"\n",
    "    Plot a one-to-one comparison of the training set labels from GALAH and the Cannon\n",
    "    labels inferred from the training set spectra.\n",
    "\n",
    "    Args:\n",
    "        label_df (pd.Dataframe) : training labels of sample to plot (n_objects x n_labels)\n",
    "        flux_df (pd.Dataframe) : flux of sample to plot (n_pixels x n_objects)\n",
    "        sigma_df (pd.Dataframe) : sigma of sample to plot (n_pixels x n_objects)\n",
    "        model (tc.CannonModel) : cannon model object to test\n",
    "        figure_path (str) : full path to save plot to \n",
    "        path_to_save_labels (str) : full path to save injected + recovered labels, if given\n",
    "    \"\"\"\n",
    "    validation_str = 'smemp'\n",
    "    pc = 'k';markersize=1;alpha_value=0.5\n",
    "    full_labels = ['teff', 'logg','feh', 'alpha', 'vbroad']\n",
    "    labels_to_plot = [i for i in full_labels if i!='alpha']\n",
    "    validation_keys = [validation_str+'_'+ i for i in labels_to_plot] + ['rvs_spec_sig_to_noise']\n",
    "    cannon_keys = ['cannon_'+ i for i in full_labels] + ['cannon_chi_sq']\n",
    "\n",
    "    def compute_cannon_labels(label_df, flux_df, sigma_df):\n",
    "\n",
    "        cannon_label_data = []\n",
    "        # iterate over each object\n",
    "        for source_id in label_df.source_id.to_numpy():\n",
    "            # store galah labels\n",
    "            row = label_df.loc[label_df.source_id==source_id]\n",
    "            validation_labels = row[validation_keys].values.flatten().tolist()\n",
    "            # retrieve data\n",
    "            flux = flux_df[str(source_id)]\n",
    "            sigma = sigma_df[str(source_id)]\n",
    "            ivar = 1/sigma**2\n",
    "\n",
    "            # fit cannon model with custom optimizer\n",
    "            cannon_labels = model.test(flux, ivar)[0][0].tolist()\n",
    "\n",
    "            # convert to dictionary\n",
    "            keys = ['source_id'] + validation_keys + cannon_keys\n",
    "            values = [source_id] + validation_labels + cannon_labels\n",
    "            cannon_label_data.append(dict(zip(keys, values)))\n",
    "\n",
    "        cannon_label_df = pd.DataFrame(cannon_label_data)\n",
    "        return cannon_label_df\n",
    "\n",
    "    def plot_label_one_to_one(label_df, label):\n",
    "        x = label_df['{}_{}'.format(validation_str, label)]\n",
    "        y = label_df['cannon_{}'.format(label)]\n",
    "        z = label_df['rvs_spec_sig_to_noise']\n",
    "        diff = y - x\n",
    "        bias = np.round(np.mean(diff), 3)\n",
    "        rms = np.round(np.sqrt(np.sum(diff**2)/len(diff)), 3)\n",
    "        subplot_label = 'bias, rms = {}, {}'.format(bias, rms)\n",
    "        plt.scatter(x, y, c=z, vmin=200,vmax=800, s=10, cmap='viridis_r')\n",
    "        plt.plot([], [], '.', color='w', label=subplot_label)\n",
    "        plt.xlabel('SpecMatch-Emp {}'.format(label));plt.ylabel('Cannon {}'.format(label))\n",
    "        plt.plot([x.min(), x.max()], [x.min(), x.max()], lw=0.7, color='lightgrey')\n",
    "        plt.legend(loc='upper left', frameon=False, labelcolor='tomato')\n",
    "        plt.colorbar(label='RVS spectrum SNR')\n",
    "\n",
    "    def plot_label_difference(label_df, label):\n",
    "        x = label_df['{}_{}'.format(validation_str, label)]\n",
    "        y = label_df['cannon_{}'.format(label)]\n",
    "        diff = y - x\n",
    "        plt.hist(diff, histtype='step', color=pc)\n",
    "        plt.xlabel(r'$\\Delta {}$'.format(label))\n",
    "\n",
    "    cannon_label_df = compute_cannon_labels(\n",
    "        label_df, \n",
    "        flux_df, \n",
    "        sigma_df)\n",
    "\n",
    "    if path_to_save_labels is not None:\n",
    "        cannon_label_filename = './data/'+path_to_save_labels+'.csv'\n",
    "        cannon_label_df.to_csv(cannon_label_filename)\n",
    "        print('cannon label dataframe saved to {}'.format(cannon_label_filename))\n",
    "        \n",
    "    # define axis limits\n",
    "    axis_limit_values = [(4500,7000), (4.0,4.8), (-0.5,0.5), (0,15)]\n",
    "    axis_limit_dict = dict(zip(labels_to_plot, axis_limit_values))\n",
    "\n",
    "    gs = gridspec.GridSpec(5, 2, width_ratios=[1.2, 1])\n",
    "    plt.figure(figsize=(10,17))\n",
    "    for i in range(len(labels_to_plot)):\n",
    "        plt.subplot(gs[2*i])\n",
    "        label = labels_to_plot[i]\n",
    "        axis_min, axis_max = axis_limit_dict[label]\n",
    "#         plt.xlim(axis_min, axis_max)\n",
    "#         plt.ylim(axis_min, axis_max)\n",
    "        plot_label_one_to_one(cannon_label_df, label)\n",
    "        plt.subplot(gs[2*i+1])\n",
    "        plot_label_difference(cannon_label_df, label)\n",
    "#     plt.savefig(figure_path, dpi=300, bbox_inches='tight')"
   ]
  },
  {
   "cell_type": "code",
   "execution_count": 7,
   "id": "304eb278",
   "metadata": {},
   "outputs": [
    {
     "name": "stderr",
     "output_type": "stream",
     "text": [
      "stty: stdin isn't a terminal\n",
      "2023-07-27 11:57:02,287 [DEBUG] Couldn't get screen size. Progressbar may look odd.\n",
      "2023-07-27 11:57:02,289 [INFO] Running test step on 1 spectra\n"
     ]
    },
    {
     "name": "stdout",
     "output_type": "stream",
     "text": [
      "[=                                                                                                   ] 100% (1s)                         \n",
      "> \u001b[0;32m/var/folders/pk/t44zjr6913b62d97t1gt20680000gn/T/ipykernel_1446/356098317.py\u001b[0m(30)\u001b[0;36mcompute_cannon_labels\u001b[0;34m()\u001b[0m\n",
      "\u001b[0;32m     28 \u001b[0;31m        \u001b[0mcannon_label_data\u001b[0m \u001b[0;34m=\u001b[0m \u001b[0;34m[\u001b[0m\u001b[0;34m]\u001b[0m\u001b[0;34m\u001b[0m\u001b[0;34m\u001b[0m\u001b[0m\n",
      "\u001b[0m\u001b[0;32m     29 \u001b[0;31m        \u001b[0;31m# iterate over each object\u001b[0m\u001b[0;34m\u001b[0m\u001b[0;34m\u001b[0m\u001b[0;34m\u001b[0m\u001b[0m\n",
      "\u001b[0m\u001b[0;32m---> 30 \u001b[0;31m        \u001b[0;32mfor\u001b[0m \u001b[0msource_id\u001b[0m \u001b[0;32min\u001b[0m \u001b[0mlabel_df\u001b[0m\u001b[0;34m.\u001b[0m\u001b[0msource_id\u001b[0m\u001b[0;34m.\u001b[0m\u001b[0mto_numpy\u001b[0m\u001b[0;34m(\u001b[0m\u001b[0;34m)\u001b[0m\u001b[0;34m:\u001b[0m\u001b[0;34m\u001b[0m\u001b[0;34m\u001b[0m\u001b[0m\n",
      "\u001b[0m\u001b[0;32m     31 \u001b[0;31m            \u001b[0;31m# store galah labels\u001b[0m\u001b[0;34m\u001b[0m\u001b[0;34m\u001b[0m\u001b[0;34m\u001b[0m\u001b[0m\n",
      "\u001b[0m\u001b[0;32m     32 \u001b[0;31m            \u001b[0mrow\u001b[0m \u001b[0;34m=\u001b[0m \u001b[0mlabel_df\u001b[0m\u001b[0;34m.\u001b[0m\u001b[0mloc\u001b[0m\u001b[0;34m[\u001b[0m\u001b[0mlabel_df\u001b[0m\u001b[0;34m.\u001b[0m\u001b[0msource_id\u001b[0m\u001b[0;34m==\u001b[0m\u001b[0msource_id\u001b[0m\u001b[0;34m]\u001b[0m\u001b[0;34m\u001b[0m\u001b[0;34m\u001b[0m\u001b[0m\n",
      "\u001b[0m\n",
      "ipdb> exit()\n"
     ]
    }
   ],
   "source": [
    "# load data\n",
    "smemp_label_df = pd.read_csv('./data/smemp_labels.csv')\n",
    "smemp_flux_df = pd.read_csv('./data/smemp_flux.csv')\n",
    "smemp_sigma_df = pd.read_csv('./data/smemp_sigma.csv')\n",
    "model = tc.CannonModel.read('../gaia_binaries/data/cannon_models/gaia_rvs_model.model')\n",
    "\n",
    "# rename columns to plotting code works\n",
    "smemp_label_df = smemp_label_df.rename(\n",
    "    columns={\n",
    "    \"teff\": \"smemp_teff\", \n",
    "    \"logg\": \"smemp_logg\",\n",
    "    \"feh\":\"smemp_feh\",\n",
    "    \"vsini\":\"smemp_vbroad\",\n",
    "    })\n",
    "\n",
    "plot_one_to_one(\n",
    "    smemp_label_df, \n",
    "    smemp_flux_df, \n",
    "    smemp_sigma_df, \n",
    "    model, \n",
    "    './smemp_one_to_one.png', path_to_save_labels='smemp_cannon_labels')"
   ]
  },
  {
   "cell_type": "code",
   "execution_count": null,
   "id": "4cdc0eb9",
   "metadata": {},
   "outputs": [],
   "source": [
    "# as we can see when we remove the axis limits, this model doesn't perform well\n",
    "# mostly for the low SNR targets.\n",
    "\n",
    "# could it be because the true parameters are outside a viable range?\n",
    "# and the model shouldn't perform well?\n",
    "\n",
    "# otherwise I should look at some individual systems."
   ]
  },
  {
   "cell_type": "code",
   "execution_count": 48,
   "id": "c71138b1",
   "metadata": {},
   "outputs": [
    {
     "name": "stdout",
     "output_type": "stream",
     "text": [
      "%pylab is deprecated, use %matplotlib inline and import the required libraries.\n",
      "Populating the interactive namespace from numpy and matplotlib\n"
     ]
    },
    {
     "data": {
      "text/plain": [
       "(array([  4.,  15.,  37.,  71., 179., 132.,  51.,   8.,   3.,   5.]),\n",
       " array([4138.2544 , 4522.74206, 4907.22972, 5291.71738, 5676.20504,\n",
       "        6060.6927 , 6445.18036, 6829.66802, 7214.15568, 7598.64334,\n",
       "        7983.131  ]),\n",
       " <BarContainer object of 10 artists>)"
      ]
     },
     "execution_count": 48,
     "metadata": {},
     "output_type": "execute_result"
    },
    {
     "data": {
      "image/png": "[encoded data removed]",
      "text/plain": [
       "<Figure size 640x480 with 1 Axes>"
      ]
     },
     "metadata": {},
     "output_type": "display_data"
    }
   ],
   "source": [
    "# already it looks like these are not right...\n",
    "# let me look at the training set histogram\n",
    "# okay...the smemp library is way off from the RVS training set,\n",
    "# I don't think it's very relevant...it's mostly cool stars?\n",
    "# this doesn't seem right though and I should double check.\n",
    "\n",
    "# also...is the CKS sample in the right range?\n",
    "# I need to overplot the training set histogram\n",
    "# and the validation sample histogram.\n",
    "\n",
    "training_label_df = pd.read_csv('../gaia_binaries/data/galah_label_dataframes/training_labels.csv')\n",
    "\n",
    "%pylab inline\n",
    "hist(smemp_label_df.smemp_teff, alpha=0.5) \n",
    "hist(training_label_df.galah_teff, alpha=0.5)"
   ]
  },
  {
   "cell_type": "code",
   "execution_count": 57,
   "id": "9c5c0673",
   "metadata": {},
   "outputs": [
    {
     "name": "stdout",
     "output_type": "stream",
     "text": [
      "Reading library from /Users/isabelangelo/.specmatchemp/library.h5\n"
     ]
    },
    {
     "data": {
      "text/plain": [
       "(array([  4.,  15.,  37.,  71., 179., 132.,  51.,   8.,   3.,   5.]),\n",
       " array([4138.2544 , 4522.74206, 4907.22972, 5291.71738, 5676.20504,\n",
       "        6060.6927 , 6445.18036, 6829.66802, 7214.15568, 7598.64334,\n",
       "        7983.131  ]),\n",
       " <BarContainer object of 10 artists>)"
      ]
     },
     "execution_count": 57,
     "metadata": {},
     "output_type": "execute_result"
    },
    {
     "data": {
      "image/png": "[encoded data removed]",
      "text/plain": [
       "<Figure size 1500x500 with 3 Axes>"
      ]
     },
     "metadata": {},
     "output_type": "display_data"
    }
   ],
   "source": [
    "# okay, this looks more right...\n",
    "# what step changes this? is it the has_rvs?\n",
    "figure(figsize=(15,5))\n",
    "subplot(131);title('original smemp library')\n",
    "test_df = specmatchemp.library.read_hdf(wavlim=[5140,5200]).library_params\n",
    "hist(test_df.Teff, label='SpecMatch-Emp library');xlabel('Teff (K)')\n",
    "hist(training_label_df.galah_teff, label='Cannon training set', alpha=0.5)\n",
    "legend(loc='upper left', frameon=False)\n",
    "\n",
    "subplot(132);title('after logg > 4 cut')\n",
    "test_df2 = test_df.query('logg > 4')\n",
    "hist(test_df2.Teff);xlabel('Teff (K)')\n",
    "hist(training_label_df.galah_teff, alpha=0.5)\n",
    "\n",
    "subplot(133);title('after removing targets without RVS spectra')\n",
    "test_df3 = smemp_stars_gaia_results\n",
    "hist(test_df3.teff);xlabel('Teff (K)')\n",
    "hist(training_label_df.galah_teff, alpha=0.5)"
   ]
  },
  {
   "cell_type": "code",
   "execution_count": null,
   "id": "3357ed8d",
   "metadata": {},
   "outputs": [],
   "source": []
  },
  {
   "cell_type": "code",
   "execution_count": null,
   "id": "93abdf36",
   "metadata": {},
   "outputs": [],
   "source": []
  }
 ],
 "metadata": {
  "kernelspec": {
   "display_name": "Python 3 (ipykernel)",
   "language": "python",
   "name": "python3"
  },
  "language_info": {
   "codemirror_mode": {
    "name": "ipython",
    "version": 3
   },
   "file_extension": ".py",
   "mimetype": "text/x-python",
   "name": "python",
   "nbconvert_exporter": "python",
   "pygments_lexer": "ipython3",
   "version": "3.8.12"
  }
 },
 "nbformat": 4,
 "nbformat_minor": 5
}
